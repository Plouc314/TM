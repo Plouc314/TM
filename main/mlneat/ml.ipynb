{
 "cells": [
  {
   "cell_type": "code",
   "execution_count": 75,
   "metadata": {},
   "outputs": [],
   "source": [
    "import pickle\n",
    "import pandas as pd\n",
    "import numpy as np\n",
    "import matplotlib.pyplot as plt\n",
    "%matplotlib inline"
   ]
  },
  {
   "cell_type": "code",
   "execution_count": 76,
   "metadata": {},
   "outputs": [],
   "source": [
    "import os\n",
    "directory = '/home/alexandre/Documents/TM/main/data/'\n",
    "with open(os.path.join(directory,'dps.pickle'), 'rb') as file:\n",
    "    dps = pickle.load(file)\n",
    "\n",
    "dps = np.array(dps)"
   ]
  },
  {
   "cell_type": "code",
   "execution_count": 77,
   "metadata": {},
   "outputs": [],
   "source": [
    "\n",
    "with open(os.path.join(directory,'grid.pickle'), 'rb') as file:\n",
    "    grid = pickle.load(file)\n",
    "\n",
    "grid = np.array(grid)"
   ]
  },
  {
   "cell_type": "code",
   "execution_count": 78,
   "metadata": {},
   "outputs": [
    {
     "data": {
      "text/plain": [
       "(20, 20)"
      ]
     },
     "execution_count": 78,
     "metadata": {},
     "output_type": "execute_result"
    }
   ],
   "source": [
    "grid.shape"
   ]
  },
  {
   "cell_type": "code",
   "execution_count": 79,
   "metadata": {},
   "outputs": [
    {
     "data": {
      "text/html": [
       "<div>\n",
       "<style scoped>\n",
       "    .dataframe tbody tr th:only-of-type {\n",
       "        vertical-align: middle;\n",
       "    }\n",
       "\n",
       "    .dataframe tbody tr th {\n",
       "        vertical-align: top;\n",
       "    }\n",
       "\n",
       "    .dataframe thead th {\n",
       "        text-align: right;\n",
       "    }\n",
       "</style>\n",
       "<table border=\"1\" class=\"dataframe\">\n",
       "  <thead>\n",
       "    <tr style=\"text-align: right;\">\n",
       "      <th></th>\n",
       "      <th>0</th>\n",
       "      <th>1</th>\n",
       "      <th>2</th>\n",
       "      <th>3</th>\n",
       "      <th>4</th>\n",
       "      <th>5</th>\n",
       "      <th>6</th>\n",
       "      <th>7</th>\n",
       "      <th>8</th>\n",
       "      <th>9</th>\n",
       "      <th>10</th>\n",
       "      <th>11</th>\n",
       "      <th>12</th>\n",
       "      <th>13</th>\n",
       "      <th>14</th>\n",
       "      <th>15</th>\n",
       "      <th>16</th>\n",
       "      <th>17</th>\n",
       "      <th>18</th>\n",
       "      <th>19</th>\n",
       "    </tr>\n",
       "  </thead>\n",
       "  <tbody>\n",
       "    <tr>\n",
       "      <th>0</th>\n",
       "      <td>0</td>\n",
       "      <td>0</td>\n",
       "      <td>0</td>\n",
       "      <td>0</td>\n",
       "      <td>0</td>\n",
       "      <td>0</td>\n",
       "      <td>1</td>\n",
       "      <td>0</td>\n",
       "      <td>0</td>\n",
       "      <td>0</td>\n",
       "      <td>0</td>\n",
       "      <td>0</td>\n",
       "      <td>0</td>\n",
       "      <td>0</td>\n",
       "      <td>0</td>\n",
       "      <td>0</td>\n",
       "      <td>0</td>\n",
       "      <td>0</td>\n",
       "      <td>0</td>\n",
       "      <td>0</td>\n",
       "    </tr>\n",
       "    <tr>\n",
       "      <th>1</th>\n",
       "      <td>0</td>\n",
       "      <td>0</td>\n",
       "      <td>0</td>\n",
       "      <td>0</td>\n",
       "      <td>0</td>\n",
       "      <td>0</td>\n",
       "      <td>19</td>\n",
       "      <td>24</td>\n",
       "      <td>17</td>\n",
       "      <td>0</td>\n",
       "      <td>0</td>\n",
       "      <td>0</td>\n",
       "      <td>0</td>\n",
       "      <td>0</td>\n",
       "      <td>0</td>\n",
       "      <td>0</td>\n",
       "      <td>0</td>\n",
       "      <td>0</td>\n",
       "      <td>0</td>\n",
       "      <td>0</td>\n",
       "    </tr>\n",
       "    <tr>\n",
       "      <th>2</th>\n",
       "      <td>0</td>\n",
       "      <td>0</td>\n",
       "      <td>0</td>\n",
       "      <td>0</td>\n",
       "      <td>0</td>\n",
       "      <td>16</td>\n",
       "      <td>10</td>\n",
       "      <td>0</td>\n",
       "      <td>9</td>\n",
       "      <td>20</td>\n",
       "      <td>7</td>\n",
       "      <td>0</td>\n",
       "      <td>0</td>\n",
       "      <td>0</td>\n",
       "      <td>0</td>\n",
       "      <td>0</td>\n",
       "      <td>0</td>\n",
       "      <td>0</td>\n",
       "      <td>0</td>\n",
       "      <td>0</td>\n",
       "    </tr>\n",
       "    <tr>\n",
       "      <th>3</th>\n",
       "      <td>0</td>\n",
       "      <td>0</td>\n",
       "      <td>0</td>\n",
       "      <td>0</td>\n",
       "      <td>0</td>\n",
       "      <td>23</td>\n",
       "      <td>0</td>\n",
       "      <td>0</td>\n",
       "      <td>0</td>\n",
       "      <td>0</td>\n",
       "      <td>12</td>\n",
       "      <td>23</td>\n",
       "      <td>6</td>\n",
       "      <td>0</td>\n",
       "      <td>0</td>\n",
       "      <td>0</td>\n",
       "      <td>0</td>\n",
       "      <td>0</td>\n",
       "      <td>0</td>\n",
       "      <td>0</td>\n",
       "    </tr>\n",
       "    <tr>\n",
       "      <th>4</th>\n",
       "      <td>0</td>\n",
       "      <td>0</td>\n",
       "      <td>0</td>\n",
       "      <td>0</td>\n",
       "      <td>18</td>\n",
       "      <td>6</td>\n",
       "      <td>0</td>\n",
       "      <td>0</td>\n",
       "      <td>0</td>\n",
       "      <td>0</td>\n",
       "      <td>0</td>\n",
       "      <td>0</td>\n",
       "      <td>31</td>\n",
       "      <td>16</td>\n",
       "      <td>0</td>\n",
       "      <td>0</td>\n",
       "      <td>0</td>\n",
       "      <td>0</td>\n",
       "      <td>0</td>\n",
       "      <td>0</td>\n",
       "    </tr>\n",
       "  </tbody>\n",
       "</table>\n",
       "</div>"
      ],
      "text/plain": [
       "   0   1   2   3   4   5   6   7   8   9   10  11  12  13  14  15  16  17  18  \\\n",
       "0   0   0   0   0   0   0   1   0   0   0   0   0   0   0   0   0   0   0   0   \n",
       "1   0   0   0   0   0   0  19  24  17   0   0   0   0   0   0   0   0   0   0   \n",
       "2   0   0   0   0   0  16  10   0   9  20   7   0   0   0   0   0   0   0   0   \n",
       "3   0   0   0   0   0  23   0   0   0   0  12  23   6   0   0   0   0   0   0   \n",
       "4   0   0   0   0  18   6   0   0   0   0   0   0  31  16   0   0   0   0   0   \n",
       "\n",
       "   19  \n",
       "0   0  \n",
       "1   0  \n",
       "2   0  \n",
       "3   0  \n",
       "4   0  "
      ]
     },
     "execution_count": 79,
     "metadata": {},
     "output_type": "execute_result"
    }
   ],
   "source": [
    "df = pd.DataFrame(grid)\n",
    "df.head()"
   ]
  },
  {
   "cell_type": "code",
   "execution_count": 80,
   "metadata": {},
   "outputs": [
    {
     "data": {
      "image/png": "[encoded data removed]",
      "text/plain": [
       "<Figure size 648x648 with 1 Axes>"
      ]
     },
     "metadata": {
      "needs_background": "light"
     },
     "output_type": "display_data"
    }
   ],
   "source": [
    "fig = plt.figure(figsize=(9,9))\n",
    "plt.imshow(grid);"
   ]
  },
  {
   "cell_type": "code",
   "execution_count": 81,
   "metadata": {},
   "outputs": [],
   "source": [
    "def get_dps(df):\n",
    "    idx = df.replace(0,np.NaN).notna()\n",
    "    dps = []\n",
    "    for i in range(20):\n",
    "        s = df[i][idx[i]]\n",
    "        if s.size != 0:\n",
    "            for e in s.index.values:\n",
    "                dp = [i, 50-e]\n",
    "                dps.append(dp)\n",
    "    dps = np.array(dps)\n",
    "    dps[:,1] -= 1\n",
    "    return dps"
   ]
  },
  {
   "cell_type": "code",
   "execution_count": 92,
   "metadata": {},
   "outputs": [
    {
     "data": {
      "text/plain": [
       "(18, 2)"
      ]
     },
     "execution_count": 92,
     "metadata": {},
     "output_type": "execute_result"
    }
   ],
   "source": [
    "from sklearn.cluster import KMeans\n",
    "# count the amoud of != 0 values, (replace 0 by NaN, count the number of notNaN by column and get the sum)\n",
    "n_clusters = round(dps.shape[0]/20)\n",
    "kmeans = KMeans(n_clusters=n_clusters)\n",
    "\n",
    "\n",
    "kmeans.fit(dps)\n",
    "clean_dps = kmeans.cluster_centers_\n",
    "clean_dps.shape"
   ]
  },
  {
   "cell_type": "code",
   "execution_count": 93,
   "metadata": {},
   "outputs": [],
   "source": [
    "# get the grid version\n",
    "#dps = get_dps(df)\n",
    "#clean_dps = dps"
   ]
  },
  {
   "cell_type": "code",
   "execution_count": 94,
   "metadata": {},
   "outputs": [],
   "source": [
    "from scipy.spatial.distance import cdist\n",
    "\n",
    "def closest_point(point, points):\n",
    "    \"\"\" Find closest point from a list of points. \"\"\"\n",
    "    index = cdist([point], points).argmin()\n",
    "    return points.iloc[index,:], points.iloc[[index,index-1],:].index[0]\n",
    "\n",
    "def find_closest_dps(idx, dps):\n",
    "    \n",
    "    dp = dps.iloc[idx,:]\n",
    "    c1dp, c1idx = closest_point(dp, dps.drop(idx,axis=0))\n",
    "\n",
    "    c2dp, c2idx = closest_point(dp, dps.drop([idx, c1idx],axis=0))\n",
    "    return c1dp, c2dp\n",
    "\n",
    "def build_slines_from_unique(df_dps, unique):\n",
    "    slines = []\n",
    "    for name1, name2 in unique:\n",
    "        dp1 = df_dps.iloc[name1,:]\n",
    "        dp2 = df_dps.iloc[name2,:]\n",
    "        slines.append((dp1, dp2))\n",
    "    return slines\n",
    "\n",
    "def drop_same_lines(slines, dps):\n",
    "    names = []\n",
    "    for sline in slines:\n",
    "        cname = [sline[0].name, sline[1].name]\n",
    "        cname.sort()\n",
    "        names.append(cname)\n",
    "\n",
    "    names = np.array(names)\n",
    "    unique = np.unique(names, axis=0)\n",
    "    slines = build_slines_from_unique(dps, unique)\n",
    "    return slines\n",
    "\n",
    "def link_dps(dps):\n",
    "    slines = []\n",
    "    for dp in dps.iterrows():\n",
    "        idx, dp = dp\n",
    "        # find closest dps\n",
    "        cdp1, cdp2 = find_closest_dps(idx, dps)\n",
    "        slines.append((dp,cdp1))\n",
    "        slines.append((dp,cdp2))\n",
    "    slines = drop_same_lines(slines, dps)\n",
    "    return slines\n",
    "\n",
    "def length(sline):\n",
    "    dx = abs(sline[0][0] - sline[1][0])\n",
    "    dy = abs(sline[0][1] - sline[1][1])\n",
    "    l = np.sqrt(dx**2 + dy**2)\n",
    "    return l\n",
    "\n",
    "def get_max_distance(slines):\n",
    "    line_lengths = []\n",
    "    for sline in slines:\n",
    "        l = length(sline)\n",
    "        line_lengths.append(l)\n",
    "\n",
    "    return max(line_lengths)\n"
   ]
  },
  {
   "cell_type": "code",
   "execution_count": 95,
   "metadata": {},
   "outputs": [],
   "source": [
    "def check_for_isolated(slines):\n",
    "    '''Check if one of the dps is linked  3 times'''\n",
    "    # get the name of \n",
    "    names = []\n",
    "    for sline in slines:\n",
    "        cname = [sline[0].name, sline[1].name]\n",
    "        cname.sort()\n",
    "        names.append(cname)\n",
    "    names = np.array(names)\n",
    "    \n",
    "    unique, counts = np.unique(names, return_counts=True)\n",
    "    # check if a dp is linked 3 times\n",
    "    return 3 in counts"
   ]
  },
  {
   "cell_type": "code",
   "execution_count": 96,
   "metadata": {},
   "outputs": [],
   "source": [
    "def check_complete_grid(grid):\n",
    "    # count the amoud of != 0 values, (replace 0 by NaN, count the number of notNaN by column and get the sum)\n",
    "    n_clusters = np.sum(df.replace(0,np.NaN).count())\n",
    "    kmeans = KMeans(n_clusters=n_clusters)\n",
    "\n",
    "    dps = get_dps(df)\n",
    "\n",
    "    kmeans.fit(dps)\n",
    "    clean_dps = kmeans.cluster_centers_\n",
    "    \n",
    "    df_dps = pd.DataFrame(clean_dps, columns=['x','y'])\n",
    "    slines = link_dps(df_dps)\n",
    "    return not check_for_isolated(slines)\n"
   ]
  },
  {
   "cell_type": "code",
   "execution_count": 97,
   "metadata": {},
   "outputs": [
    {
     "data": {
      "image/png": "[encoded data removed]",
      "text/plain": [
       "<Figure size 432x432 with 1 Axes>"
      ]
     },
     "metadata": {
      "needs_background": "light"
     },
     "output_type": "display_data"
    }
   ],
   "source": [
    "df_dps = pd.DataFrame(clean_dps, columns=['x','y'])\n",
    "slines = link_dps(df_dps)\n",
    "\n",
    "fig = plt.figure(figsize=(6,6))\n",
    "\n",
    "for sline in slines:\n",
    "    plt.plot((sline[0][0], sline[1][0]), (sline[0][1], sline[1][1]), c='blue')\n",
    "\n",
    "\n",
    "# all obs\n",
    "plt.scatter(dps[:,0], dps[:,1], c='black')\n",
    "# cluster centers\n",
    "plt.scatter(clean_dps[:,0], clean_dps[:,1], c='r')\n",
    "plt.show()"
   ]
  },
  {
   "cell_type": "code",
   "execution_count": 98,
   "metadata": {},
   "outputs": [
    {
     "data": {
      "text/plain": [
       "417.013490270957"
      ]
     },
     "execution_count": 98,
     "metadata": {},
     "output_type": "execute_result"
    }
   ],
   "source": [
    "# max distance between two following dps\n",
    "get_max_distance(slines)"
   ]
  },
  {
   "cell_type": "code",
   "execution_count": 99,
   "metadata": {},
   "outputs": [
    {
     "data": {
      "text/plain": [
       "True"
      ]
     },
     "execution_count": 99,
     "metadata": {},
     "output_type": "execute_result"
    }
   ],
   "source": [
    "# isolated dp\n",
    "check_for_isolated(slines)"
   ]
  },
  {
   "cell_type": "code",
   "execution_count": 100,
   "metadata": {},
   "outputs": [
    {
     "data": {
      "text/plain": [
       "(67.83230154129606, 1254.116958500987, 79.66443806205305, 1419.6188952712807)"
      ]
     },
     "execution_count": 100,
     "metadata": {},
     "output_type": "execute_result"
    },
    {
     "data": {
      "image/png": "[encoded data removed]",
      "text/plain": [
       "<Figure size 1296x432 with 3 Axes>"
      ]
     },
     "metadata": {
      "needs_background": "light"
     },
     "output_type": "display_data"
    }
   ],
   "source": [
    "plt.rc('axes', titlesize=20) \n",
    "\n",
    "fig, (ax1, ax2, ax3) = plt.subplots(nrows=1, ncols=3, figsize=(18, 6))\n",
    "\n",
    "ax1.set_title('Observations brutes')\n",
    "ax2.set_title('Observations et clusters')\n",
    "ax3.set_title('Centre des clusters')\n",
    "\n",
    "\n",
    "ax1.scatter(dps[:,0], dps[:,1], c='black')\n",
    "\n",
    "ax2.scatter(dps[:,0], dps[:,1], c='black')\n",
    "ax2.scatter(clean_dps[:,0], clean_dps[:,1], c='red', s=60)\n",
    "\n",
    "ax3.scatter(clean_dps[:,0], clean_dps[:,1], c='red', s=60)\n",
    "\n",
    "ax1.axis('off')\n",
    "ax2.axis('off')\n",
    "ax3.axis('off')\n",
    "\n",
    "#plt.savefig('kmeans-clean.png', bbox_inches='tight', pad_inches = 0)"
   ]
  },
  {
   "cell_type": "code",
   "execution_count": 102,
   "metadata": {},
   "outputs": [
    {
     "data": {
      "image/png": "[encoded data removed]",
      "text/plain": [
       "<Figure size 432x432 with 1 Axes>"
      ]
     },
     "metadata": {
      "needs_background": "light"
     },
     "output_type": "display_data"
    }
   ],
   "source": [
    "fig = plt.figure(figsize=(6,6))\n",
    "\n",
    "plt.title('Pièce ouverte')\n",
    "\n",
    "plt.scatter(clean_dps[:,0],clean_dps[:,1], c='red', s=60)\n",
    "\n",
    "for sline in slines:\n",
    "    plt.plot((sline[0][0], sline[1][0]), (sline[0][1], sline[1][1]), c='blue')\n",
    "\n",
    "plt.axis('off')\n",
    "\n",
    "plt.savefig('kmeans-p-ouverte.png', bbox_inches='tight', pad_inches = 0)"
   ]
  },
  {
   "cell_type": "code",
   "execution_count": null,
   "metadata": {},
   "outputs": [],
   "source": []
  }
 ],
 "metadata": {
  "kernelspec": {
   "display_name": "Python 3",
   "language": "python",
   "name": "python3"
  },
  "language_info": {
   "codemirror_mode": {
    "name": "ipython",
    "version": 3
   },
   "file_extension": ".py",
   "mimetype": "text/x-python",
   "name": "python",
   "nbconvert_exporter": "python",
   "pygments_lexer": "ipython3",
   "version": "3.6.10"
  }
 },
 "nbformat": 4,
 "nbformat_minor": 2
}
